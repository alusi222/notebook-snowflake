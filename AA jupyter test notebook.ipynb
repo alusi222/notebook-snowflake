{
 "metadata": {
  "kernelspec": {
   "display_name": "Streamlit Notebook",
   "name": "streamlit"
  },
  "lastEditStatus": {
   "notebookId": "",
   "authorId": 392143379641,
   "authorName": "",
   "authorEmail": "",
   "sessionId": "1a521972-ab6b-4df3-bc18-10f9546272fa",
   "lastEditTime": 1753935512444
  }
 },
 "nbformat_minor": 5,
 "nbformat": 4,
 "cells": [
  {
   "cell_type": "code",
   "id": "3775908f-ca36-4846-8f38-5adca39217f2",
   "metadata": {
    "language": "python",
    "name": "cell1"
   },
   "source": "# Import python packages\nimport streamlit as st\nimport pandas as pd\n\n# We can also use Snowpark for our analyses!\nfrom snowflake.snowpark.context import get_active_session\nsession = get_active_session()\n",
   "execution_count": null,
   "outputs": []
  },
  {
   "cell_type": "code",
   "id": "8d50cbf4-0c8d-4950-86cb-114990437ac9",
   "metadata": {
    "language": "sql",
    "name": "cell2"
   },
   "source": "-- Welcome to Snowflake Notebooks!!!!!!!\n-- Try out a SQL cell to generate some data.\nSELECT 'FRIDAY' as SNOWDAY, 0.2 as CHANCE_OF_SNOW\nUNION ALL\nSELECT 'SATURDAY',0.5\nUNION ALL \nSELECT 'SUNDAY', 0.9;",
   "execution_count": null,
   "outputs": []
  },
  {
   "cell_type": "code",
   "id": "c695373e-ac74-4b62-a1f1-08206cbd5c81",
   "metadata": {
    "language": "python",
    "name": "cell3"
   },
   "source": "# Then, we can use the python name to turn cell2 into a Pandas dataframe\nmy_df = cell2.to_pandas()\n\n# Chart the data\nst.subheader(\"Chance of SNOW ❄️\")\nst.line_chart(my_df, x='SNOWDAY', y='CHANCE_OF_SNOW')\n\n# Give it a go!\nst.subheader(\"Try it out yourself and show off your skills 🥇\")",
   "execution_count": null,
   "outputs": []
  },
  {
   "cell_type": "code",
   "id": "474d830d-abb0-4a7e-b434-60b5fd195369",
   "metadata": {
    "language": "python",
    "name": "cell4"
   },
   "outputs": [],
   "source": "%time squares = [x**2 for x in range(10_000_000)]",
   "execution_count": null
  },
  {
   "cell_type": "code",
   "id": "be40638f-4b7f-4b75-8e4e-68c1a3ecc52d",
   "metadata": {
    "language": "python",
    "name": "cell5"
   },
   "outputs": [],
   "source": "%%writefile hello.py\ndef greet(name):\n    print(f\"Hello, {name}!\")\n\ngreet(\"Annissa\")",
   "execution_count": null
  },
  {
   "cell_type": "code",
   "id": "30bb5df8-5382-4215-abfc-346228bbfb8e",
   "metadata": {
    "language": "python",
    "name": "cell6"
   },
   "outputs": [],
   "source": "!python hello.py\n",
   "execution_count": null
  },
  {
   "cell_type": "code",
   "id": "deed62e9-c7b0-49bb-9f00-b410a689cf9e",
   "metadata": {
    "language": "python",
    "name": "cell7"
   },
   "outputs": [],
   "source": "!ls",
   "execution_count": null
  }
 ]
}