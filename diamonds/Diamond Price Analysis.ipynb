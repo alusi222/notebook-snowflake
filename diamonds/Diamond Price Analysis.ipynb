{
  "metadata": {
    "kernelspec": {
      "display_name": "Python 3 (ipykernel)",
      "language": "python",
      "name": "python3"
    },
    "language_info": {
      "codemirror_mode": {
        "name": "ipython",
        "version": 3
      },
      "file_extension": ".py",
      "mimetype": "text/x-python",
      "name": "python",
      "nbconvert_exporter": "python",
      "pygments_lexer": "ipython3",
      "version": "3.11.2"
    }
  },
  "nbformat_minor": 4,
  "nbformat": 4,
  "cells": [
    {
      "id": "58197db1-7860-4b02-9d9c-fc13226d4130",
      "cell_type": "code",
      "metadata": {
        "name": "cell33",
        "language": "python"
      },
      "source": "!uv pip install matplotlib seaborn scikit-learn"
    },
    {
      "cell_type": "markdown",
      "metadata": {
        "name": "cell1",
        "codeCollapsed": true
      },
      "source": [
        "# Diamond Price Analysis and Prediction\n",
        "\n",
        "This notebook analyzes diamond prices across multiple dimensions and builds a predictive model for diamond pricing.\n",
        "\n",
        "## Dataset Overview\n",
        "- Dataset: Seaborn diamonds dataset (~54,000 diamonds)\n",
        "- Features: carat, cut, color, clarity, depth, table, price, x, y, z\n",
        "- Target: price (in US dollars)"
      ],
      "id": "ce110000-1111-2222-3333-ffffff000000"
    },
    {
      "cell_type": "code",
      "execution_count": 18,
      "metadata": {
        "name": "cell2",
        "language": "python",
        "collapsed": false,
        "codeCollapsed": false
      },
      "source": "import pandas as pd\nimport numpy as np\nimport matplotlib.pyplot as plt\nimport seaborn as sns\nfrom sklearn.model_selection import train_test_split\nfrom sklearn.ensemble import RandomForestRegressor\nfrom sklearn.linear_model import LinearRegression\nfrom sklearn.preprocessing import LabelEncoder, StandardScaler\nfrom sklearn.metrics import mean_squared_error, r2_score, mean_absolute_error\n\nfrom snowflake.snowpark.context import get_active_session\nimport warnings\nwarnings.filterwarnings('ignore')\n\nplt.style.use('seaborn-v0_8')\nsns.set_palette('viridis')\nplt.rcParams['figure.figsize'] = (12, 8)\nprint('Initialized')",
      "id": "ce110000-1111-2222-3333-ffffff000001"
    },
    {
      "id": "fe72b48b-09df-44f5-9804-256319763f77",
      "cell_type": "code",
      "metadata": {
        "name": "cell34",
        "language": "sql",
        "collapsed": false,
        "codeCollapsed": false
      },
      "source": "SELECT * FROM VNEXT.PUBLIC.DIAMONDS"
    },
    {
      "cell_type": "code",
      "execution_count": 2,
      "metadata": {
        "name": "cell3",
        "language": "python"
      },
      "source": "df = pd.read_csv('diamonds.csv') # Note: We're worrking on hooking up cell references \n\n#df = session.table(\"VNEXT.PUBLIC.DIAMONDS\").to_pandas()\nprint(f\"Dataset shape: {df.shape}\")\nprint(\"\\nFirst 5 rows:\")\ndf.head()",
      "id": "ce110000-1111-2222-3333-ffffff000002"
    },
    {
      "cell_type": "code",
      "execution_count": 3,
      "metadata": {
        "name": "cell4",
        "language": "python"
      },
      "source": [
        "print(\"Dataset Info:\")\n",
        "df.info()\n",
        "print(\"\\nBasic Statistics:\")\n",
        "df.describe()"
      ],
      "id": "ce110000-1111-2222-3333-ffffff000003"
    },
    {
      "cell_type": "code",
      "execution_count": 4,
      "metadata": {
        "name": "cell5",
        "language": "python"
      },
      "source": [
        "print(\"Missing values:\")\n",
        "print(df.isnull().sum())\n",
        "print(\"\\nUnique values in categorical columns:\")\n",
        "for col in ['cut', 'color', 'clarity']:\n",
        "    print(f\"{col}: {df[col].unique()}\")"
      ],
      "id": "ce110000-1111-2222-3333-ffffff000004"
    },
    {
      "cell_type": "markdown",
      "metadata": {
        "name": "cell6",
        "codeCollapsed": true
      },
      "source": [
        "## 2. Exploratory Data Analysis\n",
        "\n",
        "### 2.1 Price Distribution"
      ],
      "id": "ce110000-1111-2222-3333-ffffff000005"
    },
    {
      "cell_type": "code",
      "execution_count": 5,
      "metadata": {
        "name": "cell7",
        "language": "python"
      },
      "source": [
        "fig, axes = plt.subplots(1, 2, figsize=(15, 6))\n",
        "\n",
        "axes[0].hist(df['price'], bins=50, alpha=0.7)\n",
        "axes[0].set_title('Distribution of Diamond Prices')\n",
        "axes[0].set_xlabel('Price ($)')\n",
        "axes[0].set_ylabel('Frequency')\n",
        "\n",
        "axes[1].hist(np.log(df['price']), bins=50, alpha=0.7)\n",
        "axes[1].set_title('Distribution of Log(Price)')\n",
        "axes[1].set_xlabel('Log(Price)')\n",
        "axes[1].set_ylabel('Frequency')\n",
        "\n",
        "plt.tight_layout()\n",
        "plt.show()\n",
        "\n",
        "print(f\"Price statistics:\")\n",
        "print(f\"Mean: ${df['price'].mean():.2f}\")\n",
        "print(f\"Median: ${df['price'].median():.2f}\")\n",
        "print(f\"Min: ${df['price'].min():.2f}\")\n",
        "print(f\"Max: ${df['price'].max():.2f}\")"
      ],
      "id": "ce110000-1111-2222-3333-ffffff000006"
    },
    {
      "cell_type": "markdown",
      "metadata": {
        "name": "cell8",
        "codeCollapsed": true
      },
      "source": [
        "### 2.2 Analysis by Cut Quality"
      ],
      "id": "ce110000-1111-2222-3333-ffffff000007"
    },
    {
      "cell_type": "code",
      "execution_count": 6,
      "metadata": {
        "name": "cell9",
        "language": "python"
      },
      "source": [
        "fig, axes = plt.subplots(2, 2, figsize=(15, 12))\n",
        "\n",
        "sns.boxplot(data=df, x='cut', y='price', ax=axes[0, 0])\n",
        "axes[0, 0].set_title('Price Distribution by Cut')\n",
        "axes[0, 0].tick_params(axis='x', rotation=45)\n",
        "\n",
        "cut_counts = df['cut'].value_counts()\n",
        "axes[0, 1].bar(cut_counts.index, cut_counts.values)\n",
        "axes[0, 1].set_title('Count of Diamonds by Cut')\n",
        "axes[0, 1].tick_params(axis='x', rotation=45)\n",
        "\n",
        "cut_avg_price = df.groupby('cut')['price'].mean().sort_values(ascending=False)\n",
        "axes[1, 0].bar(cut_avg_price.index, cut_avg_price.values)\n",
        "axes[1, 0].set_title('Average Price by Cut')\n",
        "axes[1, 0].tick_params(axis='x', rotation=45)\n",
        "\n",
        "sns.violinplot(data=df, x='cut', y='price', ax=axes[1, 1])\n",
        "axes[1, 1].set_title('Price Distribution Density by Cut')\n",
        "axes[1, 1].tick_params(axis='x', rotation=45)\n",
        "\n",
        "plt.tight_layout()\n",
        "plt.show()\n",
        "\n",
        "print(\"Average price by cut:\")\n",
        "print(cut_avg_price)"
      ],
      "id": "ce110000-1111-2222-3333-ffffff000008"
    },
    {
      "cell_type": "markdown",
      "metadata": {
        "name": "cell10",
        "codeCollapsed": true
      },
      "source": [
        "### 2.3 Analysis by Color"
      ],
      "id": "ce110000-1111-2222-3333-ffffff000009"
    },
    {
      "cell_type": "code",
      "execution_count": 7,
      "metadata": {
        "name": "cell11",
        "language": "python"
      },
      "source": [
        "fig, axes = plt.subplots(2, 2, figsize=(15, 12))\n",
        "\n",
        "sns.boxplot(data=df, x='color', y='price', ax=axes[0, 0])\n",
        "axes[0, 0].set_title('Price Distribution by Color')\n",
        "\n",
        "color_counts = df['color'].value_counts()\n",
        "axes[0, 1].bar(color_counts.index, color_counts.values)\n",
        "axes[0, 1].set_title('Count of Diamonds by Color')\n",
        "\n",
        "color_avg_price = df.groupby('color')['price'].mean().sort_values(ascending=False)\n",
        "axes[1, 0].bar(color_avg_price.index, color_avg_price.values)\n",
        "axes[1, 0].set_title('Average Price by Color')\n",
        "\n",
        "sns.violinplot(data=df, x='color', y='price', ax=axes[1, 1])\n",
        "axes[1, 1].set_title('Price Distribution Density by Color')\n",
        "\n",
        "plt.tight_layout()\n",
        "plt.show()\n",
        "\n",
        "print(\"Average price by color:\")\n",
        "print(color_avg_price)"
      ],
      "id": "ce110000-1111-2222-3333-ffffff000010"
    },
    {
      "cell_type": "markdown",
      "metadata": {
        "name": "cell12",
        "codeCollapsed": true
      },
      "source": [
        "### 2.4 Analysis by Clarity"
      ],
      "id": "ce110000-1111-2222-3333-ffffff000011"
    },
    {
      "cell_type": "code",
      "execution_count": 8,
      "metadata": {
        "name": "cell13",
        "language": "python"
      },
      "source": [
        "fig, axes = plt.subplots(2, 2, figsize=(15, 12))\n",
        "\n",
        "sns.boxplot(data=df, x='clarity', y='price', ax=axes[0, 0])\n",
        "axes[0, 0].set_title('Price Distribution by Clarity')\n",
        "axes[0, 0].tick_params(axis='x', rotation=45)\n",
        "\n",
        "clarity_counts = df['clarity'].value_counts()\n",
        "axes[0, 1].bar(clarity_counts.index, clarity_counts.values)\n",
        "axes[0, 1].set_title('Count of Diamonds by Clarity')\n",
        "axes[0, 1].tick_params(axis='x', rotation=45)\n",
        "\n",
        "clarity_avg_price = df.groupby('clarity')['price'].mean().sort_values(ascending=False)\n",
        "axes[1, 0].bar(clarity_avg_price.index, clarity_avg_price.values)\n",
        "axes[1, 0].set_title('Average Price by Clarity')\n",
        "axes[1, 0].tick_params(axis='x', rotation=45)\n",
        "\n",
        "sns.violinplot(data=df, x='clarity', y='price', ax=axes[1, 1])\n",
        "axes[1, 1].set_title('Price Distribution Density by Clarity')\n",
        "axes[1, 1].tick_params(axis='x', rotation=45)\n",
        "\n",
        "plt.tight_layout()\n",
        "plt.show()\n",
        "\n",
        "print(\"Average price by clarity:\")\n",
        "print(clarity_avg_price)"
      ],
      "id": "ce110000-1111-2222-3333-ffffff000012"
    },
    {
      "cell_type": "markdown",
      "metadata": {
        "name": "cell14",
        "codeCollapsed": true
      },
      "source": [
        "### 2.5 Analysis by Carat Weight"
      ],
      "id": "ce110000-1111-2222-3333-ffffff000013"
    },
    {
      "cell_type": "code",
      "execution_count": 9,
      "metadata": {
        "name": "cell15",
        "language": "python"
      },
      "source": [
        "fig, axes = plt.subplots(2, 2, figsize=(15, 12))\n",
        "\n",
        "axes[0, 0].scatter(df['carat'], df['price'], alpha=0.5)\n",
        "axes[0, 0].set_title('Price vs Carat Weight')\n",
        "axes[0, 0].set_xlabel('Carat')\n",
        "axes[0, 0].set_ylabel('Price ($)')\n",
        "\n",
        "axes[0, 1].hist(df['carat'], bins=50, alpha=0.7)\n",
        "axes[0, 1].set_title('Distribution of Carat Weights')\n",
        "axes[0, 1].set_xlabel('Carat')\n",
        "axes[0, 1].set_ylabel('Frequency')\n",
        "\n",
        "df['carat_binned'] = pd.cut(df['carat'], bins=10)\n",
        "carat_price = df.groupby('carat_binned')['price'].mean()\n",
        "axes[1, 0].bar(range(len(carat_price)), carat_price.values)\n",
        "axes[1, 0].set_title('Average Price by Carat Range')\n",
        "axes[1, 0].set_xlabel('Carat Range')\n",
        "axes[1, 0].set_ylabel('Average Price ($)')\n",
        "axes[1, 0].tick_params(axis='x', rotation=45)\n",
        "\n",
        "axes[1, 1].scatter(df['carat'], np.log(df['price']), alpha=0.5)\n",
        "axes[1, 1].set_title('Log(Price) vs Carat Weight')\n",
        "axes[1, 1].set_xlabel('Carat')\n",
        "axes[1, 1].set_ylabel('Log(Price)')\n",
        "\n",
        "plt.tight_layout()\n",
        "plt.show()\n",
        "\n",
        "correlation = df['carat'].corr(df['price'])\n",
        "print(f\"Correlation between carat and price: {correlation:.3f}\")"
      ],
      "id": "ce110000-1111-2222-3333-ffffff000014"
    },
    {
      "cell_type": "markdown",
      "metadata": {
        "name": "cell16",
        "codeCollapsed": true
      },
      "source": [
        "### 2.6 Diamond Dimensions Analysis"
      ],
      "id": "ce110000-1111-2222-3333-ffffff000015"
    },
    {
      "cell_type": "code",
      "execution_count": 10,
      "metadata": {
        "name": "cell17",
        "language": "python"
      },
      "source": [
        "fig, axes = plt.subplots(2, 3, figsize=(18, 12))\n",
        "\n",
        "for i, dim in enumerate(['x', 'y', 'z']):\n",
        "    axes[0, i].scatter(df[dim], df['price'], alpha=0.5)\n",
        "    axes[0, i].set_title(f'Price vs {dim.upper()} dimension')\n",
        "    axes[0, i].set_xlabel(f'{dim.upper()} (mm)')\n",
        "    axes[0, i].set_ylabel('Price ($)')\n",
        "    \n",
        "    axes[1, i].hist(df[dim], bins=50, alpha=0.7)\n",
        "    axes[1, i].set_title(f'Distribution of {dim.upper()} dimension')\n",
        "    axes[1, i].set_xlabel(f'{dim.upper()} (mm)')\n",
        "    axes[1, i].set_ylabel('Frequency')\n",
        "\n",
        "plt.tight_layout()\n",
        "plt.show()\n",
        "\n",
        "print(\"Correlations with price:\")\n",
        "for dim in ['x', 'y', 'z']:\n",
        "    corr = df[dim].corr(df['price'])\n",
        "    print(f\"{dim}: {corr:.3f}\")"
      ],
      "id": "ce110000-1111-2222-3333-ffffff000016"
    },
    {
      "cell_type": "markdown",
      "metadata": {
        "name": "cell18",
        "codeCollapsed": true
      },
      "source": [
        "### 2.7 Correlation Matrix"
      ],
      "id": "ce110000-1111-2222-3333-ffffff000017"
    },
    {
      "cell_type": "code",
      "execution_count": 11,
      "metadata": {
        "name": "cell19",
        "language": "python"
      },
      "source": [
        "numeric_cols = ['carat', 'depth', 'table', 'price', 'x', 'y', 'z']\n",
        "correlation_matrix = df[numeric_cols].corr()\n",
        "\n",
        "plt.figure(figsize=(10, 8))\n",
        "sns.heatmap(correlation_matrix, annot=True, cmap='coolwarm', center=0, square=True)\n",
        "plt.title('Correlation Matrix of Numeric Features')\n",
        "plt.show()\n",
        "\n",
        "print(\"Strongest correlations with price:\")\n",
        "price_corr = correlation_matrix['price'].abs().sort_values(ascending=False)\n",
        "print(price_corr[1:])"
      ],
      "id": "ce110000-1111-2222-3333-ffffff000018"
    },
    {
      "cell_type": "markdown",
      "metadata": {
        "name": "cell20",
        "codeCollapsed": true
      },
      "source": [
        "### 2.8 Multi-dimensional Analysis"
      ],
      "id": "ce110000-1111-2222-3333-ffffff000019"
    },
    {
      "cell_type": "code",
      "execution_count": 12,
      "metadata": {
        "name": "cell21",
        "language": "python"
      },
      "source": [
        "fig, axes = plt.subplots(2, 2, figsize=(15, 12))\n",
        "\n",
        "sns.scatterplot(data=df.sample(5000), x='carat', y='price', hue='cut', ax=axes[0, 0])\n",
        "axes[0, 0].set_title('Price vs Carat by Cut')\n",
        "\n",
        "sns.scatterplot(data=df.sample(5000), x='carat', y='price', hue='color', ax=axes[0, 1])\n",
        "axes[0, 1].set_title('Price vs Carat by Color')\n",
        "\n",
        "sns.scatterplot(data=df.sample(5000), x='carat', y='price', hue='clarity', ax=axes[1, 0])\n",
        "axes[1, 0].set_title('Price vs Carat by Clarity')\n",
        "\n",
        "price_by_features = df.groupby(['cut', 'color'])['price'].mean().unstack()\n",
        "sns.heatmap(price_by_features, annot=True, fmt='.0f', cmap='viridis', ax=axes[1, 1])\n",
        "axes[1, 1].set_title('Average Price by Cut and Color')\n",
        "\n",
        "plt.tight_layout()\n",
        "plt.show()"
      ],
      "id": "ce110000-1111-2222-3333-ffffff000020"
    },
    {
      "cell_type": "markdown",
      "metadata": {
        "name": "cell22",
        "codeCollapsed": true
      },
      "source": [
        "## 3. Data Preprocessing for Machine Learning"
      ],
      "id": "ce110000-1111-2222-3333-ffffff000021"
    },
    {
      "cell_type": "code",
      "execution_count": 13,
      "metadata": {
        "name": "cell23",
        "language": "python"
      },
      "source": [
        "df_ml = df.copy()\n",
        "\n",
        "df_ml['volume'] = df_ml['x'] * df_ml['y'] * df_ml['z']\n",
        "df_ml['surface_area'] = 2 * (df_ml['x']*df_ml['y'] + df_ml['x']*df_ml['z'] + df_ml['y']*df_ml['z'])\n",
        "df_ml['ratio_xy'] = df_ml['x'] / df_ml['y']\n",
        "df_ml['ratio_xz'] = df_ml['x'] / df_ml['z']\n",
        "\n",
        "df_ml = df_ml.replace([np.inf, -np.inf], np.nan).dropna()\n",
        "\n",
        "label_encoders = {}\n",
        "for col in ['cut', 'color', 'clarity']:\n",
        "    le = LabelEncoder()\n",
        "    df_ml[col + '_encoded'] = le.fit_transform(df_ml[col])\n",
        "    label_encoders[col] = le\n",
        "\n",
        "feature_cols = ['carat', 'depth', 'table', 'x', 'y', 'z', 'volume', 'surface_area', \n",
        "                'ratio_xy', 'ratio_xz', 'cut_encoded', 'color_encoded', 'clarity_encoded']\n",
        "\n",
        "X = df_ml[feature_cols]\n",
        "y = df_ml['price']\n",
        "\n",
        "print(f\"Feature matrix shape: {X.shape}\")\n",
        "print(f\"Target vector shape: {y.shape}\")\n",
        "print(f\"Features: {feature_cols}\")"
      ],
      "id": "ce110000-1111-2222-3333-ffffff000022"
    },
    {
      "cell_type": "markdown",
      "metadata": {
        "name": "cell24",
        "codeCollapsed": true
      },
      "source": [
        "## 4. Model Building and Training"
      ],
      "id": "ce110000-1111-2222-3333-ffffff000023"
    },
    {
      "cell_type": "code",
      "execution_count": 14,
      "metadata": {
        "name": "cell25",
        "language": "python"
      },
      "source": [
        "X_train, X_test, y_train, y_test = train_test_split(X, y, test_size=0.2, random_state=42)\n",
        "\n",
        "scaler = StandardScaler()\n",
        "X_train_scaled = scaler.fit_transform(X_train)\n",
        "X_test_scaled = scaler.transform(X_test)\n",
        "\n",
        "models = {\n",
        "    'Linear Regression': LinearRegression(),\n",
        "    'Random Forest': RandomForestRegressor(n_estimators=100, random_state=42, n_jobs=-1)\n",
        "}\n",
        "\n",
        "results = {}\n",
        "\n",
        "for name, model in models.items():\n",
        "    print(f\"Training {name}...\")\n",
        "    \n",
        "    if name == 'Linear Regression':\n",
        "        model.fit(X_train_scaled, y_train)\n",
        "        y_pred = model.predict(X_test_scaled)\n",
        "    else:\n",
        "        model.fit(X_train, y_train)\n",
        "        y_pred = model.predict(X_test)\n",
        "    \n",
        "    mse = mean_squared_error(y_test, y_pred)\n",
        "    rmse = np.sqrt(mse)\n",
        "    mae = mean_absolute_error(y_test, y_pred)\n",
        "    r2 = r2_score(y_test, y_pred)\n",
        "    \n",
        "    results[name] = {\n",
        "        'model': model,\n",
        "        'predictions': y_pred,\n",
        "        'mse': mse,\n",
        "        'rmse': rmse,\n",
        "        'mae': mae,\n",
        "        'r2': r2\n",
        "    }\n",
        "    \n",
        "    print(f\"{name} Results:\")\n",
        "    print(f\"  RMSE: ${rmse:.2f}\")\n",
        "    print(f\"  MAE: ${mae:.2f}\")\n",
        "    print(f\"  R²: {r2:.4f}\")\n",
        "    print()"
      ],
      "id": "ce110000-1111-2222-3333-ffffff000024"
    },
    {
      "cell_type": "markdown",
      "metadata": {
        "name": "cell26",
        "codeCollapsed": true
      },
      "source": [
        "## 5. Model Evaluation and Comparison"
      ],
      "id": "ce110000-1111-2222-3333-ffffff000025"
    },
    {
      "cell_type": "code",
      "execution_count": 15,
      "metadata": {
        "name": "cell27",
        "language": "python"
      },
      "source": [
        "fig, axes = plt.subplots(2, 2, figsize=(15, 12))\n",
        "\n",
        "for i, (name, result) in enumerate(results.items()):\n",
        "    y_pred = result['predictions']\n",
        "    \n",
        "    axes[i, 0].scatter(y_test, y_pred, alpha=0.5)\n",
        "    axes[i, 0].plot([y_test.min(), y_test.max()], [y_test.min(), y_test.max()], 'r--', lw=2)\n",
        "    axes[i, 0].set_title(f'{name}: Predicted vs Actual')\n",
        "    axes[i, 0].set_xlabel('Actual Price ($)')\n",
        "    axes[i, 0].set_ylabel('Predicted Price ($)')\n",
        "    \n",
        "    residuals = y_test - y_pred\n",
        "    axes[i, 1].scatter(y_pred, residuals, alpha=0.5)\n",
        "    axes[i, 1].axhline(y=0, color='r', linestyle='--')\n",
        "    axes[i, 1].set_title(f'{name}: Residual Plot')\n",
        "    axes[i, 1].set_xlabel('Predicted Price ($)')\n",
        "    axes[i, 1].set_ylabel('Residuals ($)')\n",
        "\n",
        "plt.tight_layout()\n",
        "plt.show()\n",
        "\n",
        "comparison_df = pd.DataFrame({\n",
        "    'Model': list(results.keys()),\n",
        "    'RMSE': [results[name]['rmse'] for name in results.keys()],\n",
        "    'MAE': [results[name]['mae'] for name in results.keys()],\n",
        "    'R²': [results[name]['r2'] for name in results.keys()]\n",
        "})\n",
        "\n",
        "print(\"Model Comparison:\")\n",
        "print(comparison_df)"
      ],
      "id": "ce110000-1111-2222-3333-ffffff000026"
    },
    {
      "cell_type": "markdown",
      "metadata": {
        "name": "cell28",
        "codeCollapsed": true
      },
      "source": [
        "## 6. Feature Importance Analysis"
      ],
      "id": "ce110000-1111-2222-3333-ffffff000027"
    },
    {
      "cell_type": "code",
      "execution_count": 16,
      "metadata": {
        "name": "cell29",
        "language": "python"
      },
      "source": [
        "best_model = results['Random Forest']['model']\n",
        "feature_importance = pd.DataFrame({\n",
        "    'feature': feature_cols,\n",
        "    'importance': best_model.feature_importances_\n",
        "}).sort_values('importance', ascending=False)\n",
        "\n",
        "plt.figure(figsize=(10, 8))\n",
        "sns.barplot(data=feature_importance, x='importance', y='feature')\n",
        "plt.title('Feature Importance (Random Forest)')\n",
        "plt.xlabel('Importance')\n",
        "plt.show()\n",
        "\n",
        "print(\"Top 10 Most Important Features:\")\n",
        "print(feature_importance.head(10))"
      ],
      "id": "ce110000-1111-2222-3333-ffffff000028"
    },
    {
      "cell_type": "markdown",
      "metadata": {
        "name": "cell30",
        "codeCollapsed": true
      },
      "source": [
        "## 7. Price Prediction Examples"
      ],
      "id": "ce110000-1111-2222-3333-ffffff000029"
    },
    {
      "cell_type": "code",
      "execution_count": 17,
      "metadata": {
        "name": "cell31",
        "language": "python"
      },
      "source": [
        "def predict_diamond_price(carat, cut, color, clarity, depth, table, x, y, z):\n",
        "    \n",
        "    volume = x * y * z\n",
        "    surface_area = 2 * (x*y + x*z + y*z)\n",
        "    ratio_xy = x / y if y != 0 else 0\n",
        "    ratio_xz = x / z if z != 0 else 0\n",
        "    \n",
        "    cut_encoded = label_encoders['cut'].transform([cut])[0]\n",
        "    color_encoded = label_encoders['color'].transform([color])[0]\n",
        "    clarity_encoded = label_encoders['clarity'].transform([clarity])[0]\n",
        "    \n",
        "    features = np.array([[carat, depth, table, x, y, z, volume, surface_area, \n",
        "                         ratio_xy, ratio_xz, cut_encoded, color_encoded, clarity_encoded]])\n",
        "    \n",
        "    prediction = best_model.predict(features)[0]\n",
        "    return prediction\n",
        "\n",
        "sample_diamonds = [\n",
        "    {'carat': 1.0, 'cut': 'Ideal', 'color': 'G', 'clarity': 'VS1', 'depth': 62.0, 'table': 57.0, 'x': 6.3, 'y': 6.3, 'z': 3.9},\n",
        "    {'carat': 2.0, 'cut': 'Premium', 'color': 'F', 'clarity': 'VVS2', 'depth': 61.0, 'table': 58.0, 'x': 8.1, 'y': 8.1, 'z': 5.0},\n",
        "    {'carat': 0.5, 'cut': 'Good', 'color': 'J', 'clarity': 'SI1', 'depth': 63.0, 'table': 60.0, 'x': 5.0, 'y': 5.0, 'z': 3.2}\n",
        "]\n",
        "\n",
        "print(\"Diamond Price Predictions:\")\n",
        "print(\"=\" * 50)\n",
        "\n",
        "for i, diamond in enumerate(sample_diamonds, 1):\n",
        "    predicted_price = predict_diamond_price(**diamond)\n",
        "    print(f\"\\nDiamond {i}:\")\n",
        "    print(f\"  Specifications: {diamond['carat']} carat, {diamond['cut']}, {diamond['color']}, {diamond['clarity']}\")\n",
        "    print(f\"  Predicted Price: ${predicted_price:.2f}\")"
      ],
      "id": "ce110000-1111-2222-3333-ffffff000030"
    },
    {
      "cell_type": "markdown",
      "metadata": {
        "name": "cell32",
        "codeCollapsed": true
      },
      "source": [
        "## 8. Summary and Insights\n",
        "\n",
        "### Key Findings:\n",
        "\n",
        "1. **Carat Weight**: The strongest predictor of diamond price, showing a strong positive correlation\n",
        "\n",
        "2. **Physical Dimensions**: X, Y, Z dimensions are highly correlated with both carat weight and price\n",
        "\n",
        "3. **Cut Quality**: Surprisingly, 'Ideal' cuts don't always command the highest average prices, possibly due to market dynamics\n",
        "\n",
        "4. **Color**: Near-colorless diamonds (D, E, F) generally command higher prices\n",
        "\n",
        "5. **Clarity**: Higher clarity grades (FL, IF, VVS) typically have higher prices, but the relationship is complex\n",
        "\n",
        "### Model Performance:\n",
        "- Random Forest performs better than Linear Regression for this dataset\n",
        "- The model achieves good predictive accuracy for diamond pricing\n",
        "- Feature engineering (volume, surface area, ratios) provides additional predictive power\n",
        "\n",
        "### Business Applications:\n",
        "- Price estimation for diamond inventory\n",
        "- Market analysis and pricing strategy\n",
        "- Quality assessment and valuation\n",
        "- Investment and trading decisions"
      ],
      "id": "ce110000-1111-2222-3333-ffffff000031"
    }
  ]
}