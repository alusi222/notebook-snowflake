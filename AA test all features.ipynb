{
 "metadata": {
  "kernelspec": {
   "display_name": "Jupyter Notebook",
   "name": "jupyter"
  },
  "lastEditStatus": {
   "notebookId": "",
   "authorId": 392143379641,
   "authorName": "",
   "authorEmail": "",
   "sessionId": "655d8503-4e81-4f35-a3ed-3ba513b91c64",
   "lastEditTime": 1754596006696
  }
 },
 "nbformat_minor": 5,
 "nbformat": 4,
 "cells": [
  {
   "cell_type": "code",
   "id": "3775908f-ca36-4846-8f38-5adca39217f2",
   "metadata": {
    "language": "python",
    "name": "cell1"
   },
   "source": "# Import python packages\nimport pandas as pd\nimport altair as alt # If Altair is not found, you need to install it first.\n\n# We can also use Snowpark for our analyses!\nfrom snowflake.snowpark.context import get_active_session\nsession = get_active_session()",
   "execution_count": null,
   "outputs": []
  },
  {
   "cell_type": "code",
   "id": "ed5b24c6-4307-4ba4-a8cd-769b38523e94",
   "metadata": {
    "language": "python",
    "name": "cell4"
   },
   "outputs": [],
   "source": "!pip freeze\n",
   "execution_count": null
  },
  {
   "cell_type": "code",
   "id": "b8e7abf9-82b5-4f7e-a6e4-c474727cacef",
   "metadata": {
    "language": "python",
    "name": "cell3"
   },
   "outputs": [],
   "source": "hello",
   "execution_count": null
  },
  {
   "cell_type": "code",
   "id": "9d3137a4-b960-4cea-a1bb-6fae1100ba77",
   "metadata": {
    "language": "python",
    "name": "cell7"
   },
   "outputs": [],
   "source": "!pip install faker",
   "execution_count": null
  },
  {
   "cell_type": "code",
   "id": "373ab286-d392-4593-8cd8-aec1439c33cb",
   "metadata": {
    "language": "python",
    "name": "cell5"
   },
   "outputs": [],
   "source": "!pip install faker\nfrom faker import Faker\nfake = Faker()\nfakername = fake.name()\nprint(f\"Fake Name: {fakename}\")",
   "execution_count": null
  },
  {
   "cell_type": "code",
   "id": "5a5bc6fc-10cd-4a61-b972-c56fd0828f8a",
   "metadata": {
    "language": "python",
    "name": "cell6"
   },
   "outputs": [],
   "source": "# Create a small sample dataset\ndata = {\n    \"age\": [25, 32, 47, 51, 62],\n    \"income\": [50000, 64000, 120000, 98000, 150000],\n    \"department\": [\"Sales\", \"Engineering\", \"HR\", \"Marketing\", \"Finance\"],\n    \"is_manager\": [False, True, False, True, True]\n}\n\ndf = pd.DataFrame(data)\n\n# Generate and display the Sweetviz report\nreport = sv.analyze(df)\nreport.show_html(\"sweetviz_manual_data_report.html\")",
   "execution_count": null
  }
 ]
}